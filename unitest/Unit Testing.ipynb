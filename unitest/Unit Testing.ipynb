{
 "cells": [
  {
   "cell_type": "markdown",
   "metadata": {},
   "source": [
    "## `pylint`\n",
    "\n",
    "`pylint` tests for style as well as some very basic program logic."
   ]
  },
  {
   "cell_type": "code",
   "execution_count": null,
   "metadata": {
    "collapsed": true
   },
   "outputs": [],
   "source": [
    "! pip install pylint"
   ]
  },
  {
   "cell_type": "code",
   "execution_count": 1,
   "metadata": {},
   "outputs": [
    {
     "name": "stdout",
     "output_type": "stream",
     "text": [
      "Overwriting simple1.py\n"
     ]
    }
   ],
   "source": [
    "%%writefile simple1.py\n",
    "a = 1\n",
    "b = 2\n",
    "print(a)\n",
    "print(B)"
   ]
  },
  {
   "cell_type": "code",
   "execution_count": 2,
   "metadata": {},
   "outputs": [
    {
     "name": "stdout",
     "output_type": "stream",
     "text": [
      "************* Module simple1\n",
      "C:  4, 0: Final newline missing (missing-final-newline)\n",
      "C:  1, 0: Missing module docstring (missing-docstring)\n",
      "C:  1, 0: Invalid constant name \"a\" (invalid-name)\n",
      "C:  2, 0: Invalid constant name \"b\" (invalid-name)\n",
      "E:  4, 6: Undefined variable 'B' (undefined-variable)\n",
      "\n",
      "---------------------------------------------------------------------\n",
      "\n",
      "Your code has been rated at -12.50/10 (previous run: 8.33/10, -20.83)\n",
      "\n",
      "\n",
      "\n"
     ]
    },
    {
     "name": "stderr",
     "output_type": "stream",
     "text": [
      "No config file found, using default configuration\n"
     ]
    }
   ],
   "source": [
    "! pylint simple1.py"
   ]
  },
  {
   "cell_type": "code",
   "execution_count": 3,
   "metadata": {},
   "outputs": [
    {
     "name": "stdout",
     "output_type": "stream",
     "text": [
      "Overwriting simple1.py\n"
     ]
    }
   ],
   "source": [
    "%%writefile simple1.py\n",
    "\"\"\"\n",
    "A very simple script.\n",
    "\"\"\"\n",
    "\n",
    "def myfunc():\n",
    "    \"\"\"\n",
    "    An extremely simple function.\n",
    "    \"\"\"\n",
    "    first = 1\n",
    "    second = 2\n",
    "    print(first)\n",
    "    print(second)\n",
    "\n",
    "myfunc()"
   ]
  },
  {
   "cell_type": "code",
   "execution_count": 4,
   "metadata": {},
   "outputs": [
    {
     "name": "stdout",
     "output_type": "stream",
     "text": [
      "************* Module simple1\n",
      "C: 14, 0: Final newline missing (missing-final-newline)\n",
      "\n",
      "---------------------------------------------------------------------\n",
      "\n",
      "Your code has been rated at 8.33/10 (previous run: -12.50/10, +20.83)\n",
      "\n",
      "\n",
      "\n"
     ]
    },
    {
     "name": "stderr",
     "output_type": "stream",
     "text": [
      "No config file found, using default configuration\n"
     ]
    }
   ],
   "source": [
    "! pylint simple1.py"
   ]
  },
  {
   "cell_type": "code",
   "execution_count": 5,
   "metadata": {},
   "outputs": [
    {
     "name": "stdout",
     "output_type": "stream",
     "text": [
      "Overwriting simple2.py\n"
     ]
    }
   ],
   "source": [
    "%%writefile simple2.py\n",
    "\"\"\"\n",
    "A very simple script.\n",
    "\"\"\"\n",
    "\n",
    "def myfunc():\n",
    "    \"\"\"\n",
    "    An extremely simple function.\n",
    "    \"\"\"\n",
    "    first = 1\n",
    "    second = 2\n",
    "    print(first)\n",
    "    print('second')\n",
    "\n",
    "myfunc()"
   ]
  },
  {
   "cell_type": "code",
   "execution_count": 6,
   "metadata": {},
   "outputs": [
    {
     "name": "stdout",
     "output_type": "stream",
     "text": [
      "************* Module simple2\n",
      "C: 14, 0: Final newline missing (missing-final-newline)\n",
      "W: 10, 4: Unused variable 'second' (unused-variable)\n",
      "\n",
      "------------------------------------------------------------------\n",
      "\n",
      "Your code has been rated at 6.67/10 (previous run: 6.67/10, +0.00)\n",
      "\n",
      "\n",
      "\n"
     ]
    },
    {
     "name": "stderr",
     "output_type": "stream",
     "text": [
      "No config file found, using default configuration\n"
     ]
    }
   ],
   "source": [
    "! pylint simple2.py"
   ]
  },
  {
   "cell_type": "markdown",
   "metadata": {},
   "source": [
    "## `unittest`\n",
    "`unittest` lets you write your own test programs. The goal is to send a specific set of data to your program, and analyze the returned results against an expected result. \n",
    "\n",
    "Let's generate a simple script that capitalizes words in a given string. We'll call it **cap.py**."
   ]
  },
  {
   "cell_type": "code",
   "execution_count": 7,
   "metadata": {},
   "outputs": [
    {
     "name": "stdout",
     "output_type": "stream",
     "text": [
      "Overwriting cap.py\n"
     ]
    }
   ],
   "source": [
    "%%writefile cap.py\n",
    "def cap_text(text):\n",
    "    return text.capitalize()"
   ]
  },
  {
   "cell_type": "markdown",
   "metadata": {},
   "source": [
    "Now we'll write a test script. We can call it whatever we want, but **test_cap.py** seems an obvious choice.\n",
    "\n",
    "When writing test functions, it's best to go from simple to complex, as each function will be run in order. Here we'll test simple, one-word strings, followed by a test of multiple word strings."
   ]
  },
  {
   "cell_type": "code",
   "execution_count": 8,
   "metadata": {},
   "outputs": [
    {
     "name": "stdout",
     "output_type": "stream",
     "text": [
      "Overwriting test_cap.py\n"
     ]
    }
   ],
   "source": [
    "%%writefile test_cap.py\n",
    "import unittest\n",
    "import cap\n",
    "\n",
    "class TestCap(unittest.TestCase):\n",
    "    \n",
    "    def test_one_word(self):\n",
    "        text = 'python'\n",
    "        result = cap.cap_text(text)\n",
    "        self.assertEqual(result, 'Python')\n",
    "        \n",
    "    def test_multiple_words(self):\n",
    "        text = 'monty python'\n",
    "        result = cap.cap_text(text)\n",
    "        self.assertEqual(result, 'Monty Python')\n",
    "        \n",
    "if __name__ == '__main__':\n",
    "    unittest.main()"
   ]
  },
  {
   "cell_type": "code",
   "execution_count": 9,
   "metadata": {},
   "outputs": [
    {
     "name": "stderr",
     "output_type": "stream",
     "text": [
      "F.\n",
      "======================================================================\n",
      "FAIL: test_multiple_words (__main__.TestCap)\n",
      "----------------------------------------------------------------------\n",
      "Traceback (most recent call last):\n",
      "  File \"test_cap.py\", line 14, in test_multiple_words\n",
      "    self.assertEqual(result, 'Monty Python')\n",
      "AssertionError: 'Monty python' != 'Monty Python'\n",
      "- Monty python\n",
      "?       ^\n",
      "+ Monty Python\n",
      "?       ^\n",
      "\n",
      "\n",
      "----------------------------------------------------------------------\n",
      "Ran 2 tests in 0.000s\n",
      "\n",
      "FAILED (failures=1)\n"
     ]
    }
   ],
   "source": [
    "! python test_cap.py"
   ]
  },
  {
   "cell_type": "code",
   "execution_count": 10,
   "metadata": {},
   "outputs": [
    {
     "name": "stdout",
     "output_type": "stream",
     "text": [
      "Overwriting cap.py\n"
     ]
    }
   ],
   "source": [
    "%%writefile cap.py\n",
    "def cap_text(text):\n",
    "    return text.title()  # replace .capitalize() with .title()"
   ]
  },
  {
   "cell_type": "code",
   "execution_count": 11,
   "metadata": {},
   "outputs": [
    {
     "name": "stderr",
     "output_type": "stream",
     "text": [
      "..\n",
      "----------------------------------------------------------------------\n",
      "Ran 2 tests in 0.000s\n",
      "\n",
      "OK\n"
     ]
    }
   ],
   "source": [
    "! python test_cap.py"
   ]
  },
  {
   "cell_type": "code",
   "execution_count": 12,
   "metadata": {},
   "outputs": [
    {
     "name": "stdout",
     "output_type": "stream",
     "text": [
      "Overwriting test_cap.py\n"
     ]
    }
   ],
   "source": [
    "%%writefile test_cap.py\n",
    "import unittest\n",
    "import cap\n",
    "\n",
    "class TestCap(unittest.TestCase):\n",
    "    \n",
    "    def test_one_word(self):\n",
    "        text = 'python'\n",
    "        result = cap.cap_text(text)\n",
    "        self.assertEqual(result, 'Python')\n",
    "        \n",
    "    def test_multiple_words(self):\n",
    "        text = 'monty python'\n",
    "        result = cap.cap_text(text)\n",
    "        self.assertEqual(result, 'Monty Python')\n",
    "        \n",
    "    def test_with_apostrophes(self):\n",
    "        text = \"monty python's flying circus\"\n",
    "        result = cap.cap_text(text)\n",
    "        self.assertEqual(result, \"Monty Python's Flying Circus\")\n",
    "        \n",
    "if __name__ == '__main__':\n",
    "    unittest.main()"
   ]
  },
  {
   "cell_type": "code",
   "execution_count": 13,
   "metadata": {},
   "outputs": [
    {
     "name": "stderr",
     "output_type": "stream",
     "text": [
      "..F\n",
      "======================================================================\n",
      "FAIL: test_with_apostrophes (__main__.TestCap)\n",
      "----------------------------------------------------------------------\n",
      "Traceback (most recent call last):\n",
      "  File \"test_cap.py\", line 19, in test_with_apostrophes\n",
      "    self.assertEqual(result, \"Monty Python's Flying Circus\")\n",
      "AssertionError: \"Monty Python'S Flying Circus\" != \"Monty Python's Flying Circus\"\n",
      "- Monty Python'S Flying Circus\n",
      "?              ^\n",
      "+ Monty Python's Flying Circus\n",
      "?              ^\n",
      "\n",
      "\n",
      "----------------------------------------------------------------------\n",
      "Ran 3 tests in 0.000s\n",
      "\n",
      "FAILED (failures=1)\n"
     ]
    }
   ],
   "source": [
    "! python test_cap.py"
   ]
  }
 ],
 "metadata": {
  "kernelspec": {
   "display_name": "Python 3",
   "language": "python",
   "name": "python3"
  },
  "language_info": {
   "codemirror_mode": {
    "name": "ipython",
    "version": 3
   },
   "file_extension": ".py",
   "mimetype": "text/x-python",
   "name": "python",
   "nbconvert_exporter": "python",
   "pygments_lexer": "ipython3",
   "version": "3.6.6"
  }
 },
 "nbformat": 4,
 "nbformat_minor": 2
}